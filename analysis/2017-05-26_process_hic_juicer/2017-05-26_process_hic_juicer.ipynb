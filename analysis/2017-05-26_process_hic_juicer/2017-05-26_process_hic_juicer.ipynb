{
 "cells": [
  {
   "cell_type": "markdown",
   "metadata": {
    "toc": "true"
   },
   "source": [
    "# Table of Contents\n",
    " <p><div class=\"lev1 toc-item\"><a href=\"#Introduction\" data-toc-modified-id=\"Introduction-1\"><span class=\"toc-item-num\">1&nbsp;&nbsp;</span>Introduction</a></div><div class=\"lev1 toc-item\"><a href=\"#Prepare-data\" data-toc-modified-id=\"Prepare-data-2\"><span class=\"toc-item-num\">2&nbsp;&nbsp;</span>Prepare data</a></div><div class=\"lev2 toc-item\"><a href=\"#Install-Juicer\" data-toc-modified-id=\"Install-Juicer-21\"><span class=\"toc-item-num\">2.1&nbsp;&nbsp;</span>Install Juicer</a></div><div class=\"lev2 toc-item\"><a href=\"#Add-a-new-genome\" data-toc-modified-id=\"Add-a-new-genome-22\"><span class=\"toc-item-num\">2.2&nbsp;&nbsp;</span>Add a new genome</a></div><div class=\"lev1 toc-item\"><a href=\"#Run-Juicer-on-test1-sample\" data-toc-modified-id=\"Run-Juicer-on-test1-sample-3\"><span class=\"toc-item-num\">3&nbsp;&nbsp;</span>Run Juicer on <code>test1</code> sample</a></div><div class=\"lev1 toc-item\"><a href=\"#Run-Juicer-on-a-real-sample\" data-toc-modified-id=\"Run-Juicer-on-a-real-sample-4\"><span class=\"toc-item-num\">4&nbsp;&nbsp;</span>Run Juicer on a real sample</a></div>"
   ]
  },
  {
   "cell_type": "markdown",
   "metadata": {},
   "source": [
    "# Introduction\n",
    "\n",
    "Paths are relative to `projects/t47d/analysis/2017-05-26_process_hic_juicer`"
   ]
  },
  {
   "cell_type": "markdown",
   "metadata": {},
   "source": [
    "# Prepare data\n",
    "\n",
    "## Install Juicer\n",
    "\n",
    "Adapt the instructions from the [Wiki's Installation page](https://github.com/theaidenlab/juicer/wiki/Installation):\n",
    "```bash\n",
    "# Clone repository\n",
    "cd /software/mb/el7.2\n",
    "git clone git@github.com:theaidenlab/juicer.git\n",
    "\n",
    "# reference to the juicer scripts\n",
    "ANALYSIS=$HOME/projects/t47d/analysis/2017-05-26_process_hic_juicer\n",
    "JUICER=$ANALYSIS/data/juicer\n",
    "mkdir -p $JUICER/scripts\n",
    "cp -r /software/mb/el7.2/juicer/CPU/* $JUICER/scripts/\n",
    "\n",
    "# miscellaneous scripts\n",
    "cp /software/mb/el7.2/juicer/misc/* $JUICER/scripts/\n",
    "\n",
    "# download Juicer tools jar (CUDA 7.0)\n",
    "# source: https://github.com/theaidenlab/juicer/wiki/Download\n",
    "# link to jar: http://hicfiles.tc4ga.com.s3.amazonaws.com/public/juicer/juicer_tools_0.7.0.jar\n",
    "cd $JUICER/scripts/common\n",
    "wget http://hicfiles.tc4ga.com.s3.amazonaws.com/public/juicer/juicer_tools_0.7.0.jar\n",
    "chmod a+x juicer_tools_0.7.0.jar\n",
    "\n",
    "# rename as I found that the script `juicer.sh` look for the second name\n",
    "mv juicer_tools_0.7.0.jar juicer_tools.7.0.jar\n",
    "```\n",
    "\n",
    "**NOTE:** I tried to use the juicer scripts for UGER clusters, which includes the Univa cluster at the CRG. However, I run into problems relating to how software is internally loaded in the `juicer.sh` wrapper and in the CRG cluster.\n",
    "\n",
    "\n",
    "## Add a new genome\n",
    "\n",
    "Juicer runs on hg19 but it allows [adding a new genome](https://github.com/theaidenlab/juicer/wiki/Usage), so I will add our version of hg38 (which contains the mouse mammary virus tumoru, MMTV, as an additional scaffold). \n",
    "\n",
    "```\n",
    "ANALYSIS=$HOME/projects/t47d/analysis/2017-05-26_process_hic_juicer\n",
    "\n",
    "# directory to store reference FASTA and BWA-index files\n",
    "REFERENCES=$ANALYSIS/data/juicer/references\n",
    "mkdir -p $REFERENCES\n",
    "IDIR=/users/GR/mb/jquilez/assemblies/homo_sapiens/hg38_mmtv/ucsc\n",
    "ln -s $IDIR/hg38_mmtv_chr1-22XYMUn.* $REFERENCES/\n",
    "\n",
    "# generate site positions\n",
    "scripts/submit_generate_site_positions.sh\n",
    "```\n",
    "In the wrapper above I pass `hg38` instead of `hg38_mmtv` to the script `generate_site_positions.py` because from the code of [`generate_site_positions.py`](https://github.com/theaidenlab/juicer/blob/master/misc/generate_site_positions.py) I can see that only 4-characters tags are allowed."
   ]
  },
  {
   "cell_type": "markdown",
   "metadata": {},
   "source": [
    "# Run Juicer on `test1` sample\n",
    "\n",
    "As a test, I will use the test FASTQs we use for the `hic-16.05` pipeline (2 x ~1,000 reads):\n",
    "```\n",
    "sample=test1\n",
    "ANALYSIS=$HOME/projects/t47d/analysis/2017-05-26_process_hic_juicer\n",
    "IDIR=/users/project/4DGenome/pipelines/hic-16.05/test\n",
    "ODIR=$ANALYSIS/data/samples/${sample}/fastq\n",
    "mkdir -p $ODIR\n",
    "ln -s $IDIR/${sample}_read1.fastq.gz $ODIR/${sample}_R1.fastq.gz\n",
    "ln -s $IDIR/${sample}_read2.fastq.gz $ODIR/${sample}_R2.fastq.gz\n",
    "```\n",
    "\n",
    "Adapt the usage instructions from the [Wiki's Usage page](https://github.com/theaidenlab/juicer/wiki/Usage):\n",
    "```\n",
    "sample=test1\n",
    "ANALYSIS=$HOME/projects/t47d/analysis/2017-05-26_process_hic_juicer\n",
    "DATA=$ANALYSIS/data\n",
    "ifa=$DATA/juicer/references/hg38_mmtv_chr1-22XYMUn.fa\n",
    "chrom_sizes=$DATA/juicer/references/hg38_mmtv_chr1-22XYMUn.chrom.sizes\n",
    "restriction_enzyme=DpnII\n",
    "assembly_version=hg38\n",
    "SAMPLE=$DATA/samples/$sample\n",
    "JUICER=$DATA/juicer\n",
    "$JUICER/scripts/juicer.sh -z $ifa -p $chrom_sizes -s $restriction_enzyme -g hg38 -D $JUICER -d $SAMPLE\n",
    "\n",
    "# delete intermediate files\n",
    "cd $SAMPLE\n",
    "bash ../../juicer/scripts/common/cleanup.sh\n",
    "```"
   ]
  },
  {
   "cell_type": "markdown",
   "metadata": {},
   "source": [
    "# Run Juicer on a real sample\n",
    "\n",
    "The code above run fast because the `test1` sample had few reads. However, to process real samples with Juicer we need submit the job to the cluster."
   ]
  },
  {
   "cell_type": "code",
   "execution_count": null,
   "metadata": {
    "collapsed": true
   },
   "outputs": [],
   "source": []
  }
 ],
 "metadata": {
  "hide_input": false,
  "kernelspec": {
   "display_name": "Python 2",
   "language": "python",
   "name": "python2"
  },
  "language_info": {
   "codemirror_mode": {
    "name": "ipython",
    "version": 2
   },
   "file_extension": ".py",
   "mimetype": "text/x-python",
   "name": "python",
   "nbconvert_exporter": "python",
   "pygments_lexer": "ipython2",
   "version": "2.7.9"
  },
  "toc": {
   "colors": {
    "hover_highlight": "#DAA520",
    "running_highlight": "#FF0000",
    "selected_highlight": "#FFD700"
   },
   "moveMenuLeft": true,
   "navigate_menu": false,
   "number_sections": false,
   "sideBar": false,
   "threshold": 4,
   "toc_cell": true,
   "toc_section_display": "block",
   "toc_window_display": true
  }
 },
 "nbformat": 4,
 "nbformat_minor": 0
}
